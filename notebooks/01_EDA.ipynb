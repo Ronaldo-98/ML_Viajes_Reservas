{
 "cells": [
  {
   "cell_type": "markdown",
   "id": "5f8b2158",
   "metadata": {},
   "source": [
    "# 📊 Exploración de Datos (EDA)"
   ]
  },
  {
   "cell_type": "code",
   "execution_count": null,
   "id": "a53af7bd",
   "metadata": {},
   "outputs": [],
   "source": [
    "import pandas as pd\n",
    "import seaborn as sns\n",
    "import matplotlib.pyplot as plt\n",
    "\n",
    "# Cargar el dataset\n",
    "ruta = '../dataset/dataset_viajes.csv'\n",
    "df = pd.read_csv(ruta)\n",
    "df.head()"
   ]
  },
  {
   "cell_type": "code",
   "execution_count": null,
   "id": "fca6bde0",
   "metadata": {},
   "outputs": [],
   "source": [
    "# Distribución de Edad\n",
    "sns.histplot(df['Edad'], bins=20, kde=True)\n",
    "plt.title('Distribución de Edad')\n",
    "plt.show()"
   ]
  },
  {
   "cell_type": "code",
   "execution_count": null,
   "id": "ff6f015f",
   "metadata": {},
   "outputs": [],
   "source": [
    "# Correlación entre variables\n",
    "sns.heatmap(df.corr(), annot=True, cmap='coolwarm')\n",
    "plt.title('Matriz de Correlación')\n",
    "plt.show()"
   ]
  }
 ],
 "metadata": {},
 "nbformat": 4,
 "nbformat_minor": 5
}