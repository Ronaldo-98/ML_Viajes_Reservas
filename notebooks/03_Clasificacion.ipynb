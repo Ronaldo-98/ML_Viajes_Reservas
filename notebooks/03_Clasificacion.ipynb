{
 "cells": [
  {
   "cell_type": "markdown",
   "id": "307ab3bf",
   "metadata": {},
   "source": [
    "# 🌲 Clasificación: ¿Reservó un tour?"
   ]
  },
  {
   "cell_type": "code",
   "execution_count": null,
   "id": "5f93acda",
   "metadata": {},
   "outputs": [],
   "source": [
    "import pandas as pd\n",
    "from sklearn.model_selection import train_test_split\n",
    "from sklearn.ensemble import RandomForestClassifier\n",
    "from sklearn.metrics import classification_report, confusion_matrix, roc_auc_score"
   ]
  },
  {
   "cell_type": "code",
   "execution_count": null,
   "id": "81b7864d",
   "metadata": {},
   "outputs": [],
   "source": [
    "# Cargar datos\n",
    "df = pd.read_csv('../dataset/dataset_viajes.csv')"
   ]
  },
  {
   "cell_type": "code",
   "execution_count": null,
   "id": "7fb8da36",
   "metadata": {},
   "outputs": [],
   "source": [
    "# Variables\n",
    "X = df[['Edad', 'Ingresos', 'Visitas_Web', 'Tiempo_Web', 'Tours_Vistos', 'Promociones_Usadas']]\n",
    "y = df['Reservo_Tour']"
   ]
  },
  {
   "cell_type": "code",
   "execution_count": null,
   "id": "d6888c8e",
   "metadata": {},
   "outputs": [],
   "source": [
    "# Dividir datos\n",
    "X_train, X_test, y_train, y_test = train_test_split(X, y, test_size=0.3, random_state=42)"
   ]
  },
  {
   "cell_type": "code",
   "execution_count": null,
   "id": "7c00b7d7",
   "metadata": {},
   "outputs": [],
   "source": [
    "# Entrenar modelo\n",
    "modelo_rf = RandomForestClassifier(random_state=42)\n",
    "modelo_rf.fit(X_train, y_train)\n",
    "pred_rf = modelo_rf.predict(X_test)"
   ]
  },
  {
   "cell_type": "code",
   "execution_count": null,
   "id": "75739288",
   "metadata": {},
   "outputs": [],
   "source": [
    "# Resultados\n",
    "print(confusion_matrix(y_test, pred_rf))\n",
    "print(classification_report(y_test, pred_rf))\n",
    "print('AUC:', roc_auc_score(y_test, modelo_rf.predict_proba(X_test)[:,1]))"
   ]
  }
 ],
 "metadata": {},
 "nbformat": 4,
 "nbformat_minor": 5
}