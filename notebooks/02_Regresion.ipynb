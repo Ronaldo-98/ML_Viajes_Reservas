{
 "cells": [
  {
   "cell_type": "markdown",
   "id": "8b7f28f9",
   "metadata": {},
   "source": [
    "# 📈 Modelo de Regresión: Monto Pagado"
   ]
  },
  {
   "cell_type": "code",
   "execution_count": null,
   "id": "7dc0f2cb",
   "metadata": {},
   "outputs": [],
   "source": [
    "import pandas as pd\n",
    "from sklearn.model_selection import train_test_split\n",
    "from sklearn.linear_model import LinearRegression\n",
    "from sklearn.preprocessing import PolynomialFeatures\n",
    "from sklearn.metrics import mean_squared_error, r2_score"
   ]
  },
  {
   "cell_type": "code",
   "execution_count": null,
   "id": "ba49976a",
   "metadata": {},
   "outputs": [],
   "source": [
    "# Cargar datos\n",
    "df = pd.read_csv('../dataset/dataset_viajes.csv')\n",
    "df = df[df['Monto_Pagado'] > 0]"
   ]
  },
  {
   "cell_type": "code",
   "execution_count": null,
   "id": "a4574b90",
   "metadata": {},
   "outputs": [],
   "source": [
    "# Variables\n",
    "X = df[['Edad', 'Ingresos', 'Visitas_Web', 'Tiempo_Web', 'Tours_Vistos', 'Promociones_Usadas']]\n",
    "y = df['Monto_Pagado']"
   ]
  },
  {
   "cell_type": "code",
   "execution_count": null,
   "id": "87c490e7",
   "metadata": {},
   "outputs": [],
   "source": [
    "# Dividir datos\n",
    "X_train, X_test, y_train, y_test = train_test_split(X, y, test_size=0.3, random_state=42)"
   ]
  },
  {
   "cell_type": "code",
   "execution_count": null,
   "id": "468e4f3b",
   "metadata": {},
   "outputs": [],
   "source": [
    "# Regresión Lineal\n",
    "modelo_lineal = LinearRegression()\n",
    "modelo_lineal.fit(X_train, y_train)\n",
    "pred_lineal = modelo_lineal.predict(X_test)"
   ]
  },
  {
   "cell_type": "code",
   "execution_count": null,
   "id": "f1a61924",
   "metadata": {},
   "outputs": [],
   "source": [
    "# Métricas\n",
    "mse = mean_squared_error(y_test, pred_lineal)\n",
    "r2 = r2_score(y_test, pred_lineal)\n",
    "print(f'MSE: {mse:.2f} | R²: {r2:.4f}')"
   ]
  }
 ],
 "metadata": {},
 "nbformat": 4,
 "nbformat_minor": 5
}